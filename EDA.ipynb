{
 "cells": [
  {
   "cell_type": "markdown",
   "id": "0a3c8a97",
   "metadata": {},
   "source": [
    "## 1. Introdução\n",
    "___\n",
    "A análise exploratória a seguir foi realizada utilizando dados das avaliações de filmes realizadas no site <a>https://www.imdb.com</a>\n",
    "___\n",
    "### Perguntas a serem respondidas:\n",
    "* Qual filme você recomendaria para uma pessoa que você não\n",
    "conhece?\n",
    "<br>\n",
    "Resposta: The Godfather (O Poderoso Chefão)\n",
    "<br><br>\n",
    "* Quais são os principais fatores que estão relacionados com alta\n",
    "expectativa de faturamento de um filme?\n",
    "<br>\n",
    "Resposta:\n",
    "<br><br>\n",
    "* Quais insights podem ser tirados com a coluna Overview? É possível\n",
    "inferir o gênero do filme a partir dessa coluna?\n",
    "<br>\n",
    "Resposta:\n"
   ]
  },
  {
   "cell_type": "code",
   "execution_count": 400,
   "id": "8b1ceecc",
   "metadata": {},
   "outputs": [],
   "source": [
    "from src import data_tools\n",
    "import pandas as pd\n",
    "import seaborn as sns\n",
    "import matplotlib.pyplot as plt\n",
    "import sqlite3\n",
    "import numpy as np\n",
    "\n",
    "plt.style.use('ggplot')"
   ]
  },
  {
   "cell_type": "markdown",
   "id": "75a0ef6e",
   "metadata": {},
   "source": [
    "a\n"
   ]
  },
  {
   "cell_type": "code",
   "execution_count": 401,
   "id": "9fa53031",
   "metadata": {},
   "outputs": [
    {
     "data": {
      "text/html": [
       "<div>\n",
       "<style scoped>\n",
       "    .dataframe tbody tr th:only-of-type {\n",
       "        vertical-align: middle;\n",
       "    }\n",
       "\n",
       "    .dataframe tbody tr th {\n",
       "        vertical-align: top;\n",
       "    }\n",
       "\n",
       "    .dataframe thead th {\n",
       "        text-align: right;\n",
       "    }\n",
       "</style>\n",
       "<table border=\"1\" class=\"dataframe\">\n",
       "  <thead>\n",
       "    <tr style=\"text-align: right;\">\n",
       "      <th></th>\n",
       "      <th>Series_Title</th>\n",
       "      <th>Released_Year</th>\n",
       "      <th>Certificate</th>\n",
       "      <th>Runtime</th>\n",
       "      <th>Genre</th>\n",
       "      <th>IMDB_Rating</th>\n",
       "      <th>Overview</th>\n",
       "      <th>Meta_score</th>\n",
       "      <th>Director</th>\n",
       "      <th>Star1</th>\n",
       "      <th>Star2</th>\n",
       "      <th>Star3</th>\n",
       "      <th>Star4</th>\n",
       "      <th>No_of_Votes</th>\n",
       "      <th>Gross</th>\n",
       "    </tr>\n",
       "  </thead>\n",
       "  <tbody>\n",
       "    <tr>\n",
       "      <th>1</th>\n",
       "      <td>The Godfather</td>\n",
       "      <td>1972</td>\n",
       "      <td>A</td>\n",
       "      <td>175 min</td>\n",
       "      <td>Crime, Drama</td>\n",
       "      <td>9.2</td>\n",
       "      <td>An organized crime dynasty's aging patriarch t...</td>\n",
       "      <td>100.0</td>\n",
       "      <td>Francis Ford Coppola</td>\n",
       "      <td>Marlon Brando</td>\n",
       "      <td>Al Pacino</td>\n",
       "      <td>James Caan</td>\n",
       "      <td>Diane Keaton</td>\n",
       "      <td>1620367</td>\n",
       "      <td>134,966,411</td>\n",
       "    </tr>\n",
       "    <tr>\n",
       "      <th>2</th>\n",
       "      <td>The Dark Knight</td>\n",
       "      <td>2008</td>\n",
       "      <td>UA</td>\n",
       "      <td>152 min</td>\n",
       "      <td>Action, Crime, Drama</td>\n",
       "      <td>9.0</td>\n",
       "      <td>When the menace known as the Joker wreaks havo...</td>\n",
       "      <td>84.0</td>\n",
       "      <td>Christopher Nolan</td>\n",
       "      <td>Christian Bale</td>\n",
       "      <td>Heath Ledger</td>\n",
       "      <td>Aaron Eckhart</td>\n",
       "      <td>Michael Caine</td>\n",
       "      <td>2303232</td>\n",
       "      <td>534,858,444</td>\n",
       "    </tr>\n",
       "    <tr>\n",
       "      <th>3</th>\n",
       "      <td>The Godfather: Part II</td>\n",
       "      <td>1974</td>\n",
       "      <td>A</td>\n",
       "      <td>202 min</td>\n",
       "      <td>Crime, Drama</td>\n",
       "      <td>9.0</td>\n",
       "      <td>The early life and career of Vito Corleone in ...</td>\n",
       "      <td>90.0</td>\n",
       "      <td>Francis Ford Coppola</td>\n",
       "      <td>Al Pacino</td>\n",
       "      <td>Robert De Niro</td>\n",
       "      <td>Robert Duvall</td>\n",
       "      <td>Diane Keaton</td>\n",
       "      <td>1129952</td>\n",
       "      <td>57,300,000</td>\n",
       "    </tr>\n",
       "    <tr>\n",
       "      <th>4</th>\n",
       "      <td>12 Angry Men</td>\n",
       "      <td>1957</td>\n",
       "      <td>U</td>\n",
       "      <td>96 min</td>\n",
       "      <td>Crime, Drama</td>\n",
       "      <td>9.0</td>\n",
       "      <td>A jury holdout attempts to prevent a miscarria...</td>\n",
       "      <td>96.0</td>\n",
       "      <td>Sidney Lumet</td>\n",
       "      <td>Henry Fonda</td>\n",
       "      <td>Lee J. Cobb</td>\n",
       "      <td>Martin Balsam</td>\n",
       "      <td>John Fiedler</td>\n",
       "      <td>689845</td>\n",
       "      <td>4,360,000</td>\n",
       "    </tr>\n",
       "    <tr>\n",
       "      <th>5</th>\n",
       "      <td>The Lord of the Rings: The Return of the King</td>\n",
       "      <td>2003</td>\n",
       "      <td>U</td>\n",
       "      <td>201 min</td>\n",
       "      <td>Action, Adventure, Drama</td>\n",
       "      <td>8.9</td>\n",
       "      <td>Gandalf and Aragorn lead the World of Men agai...</td>\n",
       "      <td>94.0</td>\n",
       "      <td>Peter Jackson</td>\n",
       "      <td>Elijah Wood</td>\n",
       "      <td>Viggo Mortensen</td>\n",
       "      <td>Ian McKellen</td>\n",
       "      <td>Orlando Bloom</td>\n",
       "      <td>1642758</td>\n",
       "      <td>377,845,905</td>\n",
       "    </tr>\n",
       "  </tbody>\n",
       "</table>\n",
       "</div>"
      ],
      "text/plain": [
       "                                    Series_Title Released_Year Certificate  \\\n",
       "1                                  The Godfather          1972           A   \n",
       "2                                The Dark Knight          2008          UA   \n",
       "3                         The Godfather: Part II          1974           A   \n",
       "4                                   12 Angry Men          1957           U   \n",
       "5  The Lord of the Rings: The Return of the King          2003           U   \n",
       "\n",
       "   Runtime                     Genre  IMDB_Rating  \\\n",
       "1  175 min              Crime, Drama          9.2   \n",
       "2  152 min      Action, Crime, Drama          9.0   \n",
       "3  202 min              Crime, Drama          9.0   \n",
       "4   96 min              Crime, Drama          9.0   \n",
       "5  201 min  Action, Adventure, Drama          8.9   \n",
       "\n",
       "                                            Overview  Meta_score  \\\n",
       "1  An organized crime dynasty's aging patriarch t...       100.0   \n",
       "2  When the menace known as the Joker wreaks havo...        84.0   \n",
       "3  The early life and career of Vito Corleone in ...        90.0   \n",
       "4  A jury holdout attempts to prevent a miscarria...        96.0   \n",
       "5  Gandalf and Aragorn lead the World of Men agai...        94.0   \n",
       "\n",
       "               Director           Star1            Star2          Star3  \\\n",
       "1  Francis Ford Coppola   Marlon Brando        Al Pacino     James Caan   \n",
       "2     Christopher Nolan  Christian Bale     Heath Ledger  Aaron Eckhart   \n",
       "3  Francis Ford Coppola       Al Pacino   Robert De Niro  Robert Duvall   \n",
       "4          Sidney Lumet     Henry Fonda      Lee J. Cobb  Martin Balsam   \n",
       "5         Peter Jackson     Elijah Wood  Viggo Mortensen   Ian McKellen   \n",
       "\n",
       "           Star4  No_of_Votes        Gross  \n",
       "1   Diane Keaton      1620367  134,966,411  \n",
       "2  Michael Caine      2303232  534,858,444  \n",
       "3   Diane Keaton      1129952   57,300,000  \n",
       "4   John Fiedler       689845    4,360,000  \n",
       "5  Orlando Bloom      1642758  377,845,905  "
      ]
     },
     "execution_count": 401,
     "metadata": {},
     "output_type": "execute_result"
    }
   ],
   "source": [
    "imdb = pd.read_csv(\"data/desafio_indicium_imdb.csv\", index_col=0, encoding='utf-8')\n",
    "df = pd.DataFrame(imdb)\n",
    "df.shape\n",
    "df.head()"
   ]
  },
  {
   "cell_type": "code",
   "execution_count": 402,
   "id": "fd478d19-7b25-4b1a-92e5-c95ea5f201d7",
   "metadata": {},
   "outputs": [
    {
     "name": "stdout",
     "output_type": "stream",
     "text": [
      "<class 'pandas.core.frame.DataFrame'>\n",
      "Index: 999 entries, 1 to 999\n",
      "Data columns (total 15 columns):\n",
      " #   Column         Non-Null Count  Dtype  \n",
      "---  ------         --------------  -----  \n",
      " 0   Series_Title   999 non-null    object \n",
      " 1   Released_Year  999 non-null    object \n",
      " 2   Certificate    898 non-null    object \n",
      " 3   Runtime        999 non-null    object \n",
      " 4   Genre          999 non-null    object \n",
      " 5   IMDB_Rating    999 non-null    float64\n",
      " 6   Overview       999 non-null    object \n",
      " 7   Meta_score     842 non-null    float64\n",
      " 8   Director       999 non-null    object \n",
      " 9   Star1          999 non-null    object \n",
      " 10  Star2          999 non-null    object \n",
      " 11  Star3          999 non-null    object \n",
      " 12  Star4          999 non-null    object \n",
      " 13  No_of_Votes    999 non-null    int64  \n",
      " 14  Gross          830 non-null    object \n",
      "dtypes: float64(2), int64(1), object(12)\n",
      "memory usage: 124.9+ KB\n"
     ]
    }
   ],
   "source": [
    "df.info()"
   ]
  },
  {
   "cell_type": "code",
   "execution_count": 403,
   "id": "59ecd8ec",
   "metadata": {},
   "outputs": [
    {
     "name": "stdout",
     "output_type": "stream",
     "text": [
      "<class 'pandas.core.frame.DataFrame'>\n",
      "Index: 999 entries, 1 to 999\n",
      "Data columns (total 15 columns):\n",
      " #   Column         Non-Null Count  Dtype  \n",
      "---  ------         --------------  -----  \n",
      " 0   Series_Title   999 non-null    object \n",
      " 1   Released_Year  999 non-null    object \n",
      " 2   Certificate    898 non-null    object \n",
      " 3   Runtime        999 non-null    int32  \n",
      " 4   Genre          999 non-null    object \n",
      " 5   IMDB_Rating    999 non-null    float64\n",
      " 6   Overview       999 non-null    object \n",
      " 7   Meta_score     842 non-null    float64\n",
      " 8   Director       999 non-null    object \n",
      " 9   Star1          999 non-null    object \n",
      " 10  Star2          999 non-null    object \n",
      " 11  Star3          999 non-null    object \n",
      " 12  Star4          999 non-null    object \n",
      " 13  No_of_Votes    999 non-null    int32  \n",
      " 14  Gross          830 non-null    float64\n",
      "dtypes: float64(3), int32(2), object(10)\n",
      "memory usage: 117.1+ KB\n"
     ]
    },
    {
     "name": "stderr",
     "output_type": "stream",
     "text": [
      "<>:2: SyntaxWarning: invalid escape sequence '\\$'\n",
      "<>:2: SyntaxWarning: invalid escape sequence '\\$'\n",
      "C:\\Users\\Pedro\\AppData\\Local\\Temp\\ipykernel_15632\\64179420.py:2: SyntaxWarning: invalid escape sequence '\\$'\n",
      "  df['Gross'] = df['Gross'].replace('[\\$,]', '', regex=True).astype(float)\n"
     ]
    }
   ],
   "source": [
    "# Limpeza e transformação de dados\n",
    "df['Gross'] = df['Gross'].replace('[\\$,]', '', regex=True).astype(float)\n",
    "df['No_of_Votes'] = df['No_of_Votes'].replace('[,]', '', regex=True).astype(int)\n",
    "df['Runtime'] = df['Runtime'].replace('[ min]', '', regex=True).astype(int)\n",
    "df.info()"
   ]
  },
  {
   "cell_type": "code",
   "execution_count": 404,
   "id": "7e1abeab",
   "metadata": {},
   "outputs": [
    {
     "name": "stdout",
     "output_type": "stream",
     "text": [
      "número total de votos: 2303232\n",
      "nome do filme: The Dark Knight\n",
      "ano de lançamento: 2008\n",
      "nota do filme: 9.0\n",
      "Meta Score: 84.0\n",
      "Faturamento do filme: 534858444.0\n"
     ]
    }
   ],
   "source": [
    "#Qual o filme mais avaliado?\n",
    "print(f'número total de votos: {df['No_of_Votes'].max()}')\n",
    "index = df['No_of_Votes'].idxmax()\n",
    "print(f'nome do filme: {df['Series_Title'][index]}')\n",
    "print(f'ano de lançamento: {df['Released_Year'][index]}')\n",
    "print(f'nota do filme: {df['IMDB_Rating'][index]}')\n",
    "print(f'Meta Score: {df['Meta_score'][index]}')\n",
    "print(f'Faturamento do filme: {df['Gross'][index]}')"
   ]
  },
  {
   "cell_type": "code",
   "execution_count": 405,
   "id": "683e4398",
   "metadata": {},
   "outputs": [
    {
     "name": "stdout",
     "output_type": "stream",
     "text": [
      "número total de votos: 25088\n",
      "nome do filme: Ba wang bie ji\n",
      "ano de lançamento: 1993\n",
      "nota do filme: 8.1\n",
      "Meta Score: nan\n",
      "Faturamento do filme: 5216888.0\n"
     ]
    }
   ],
   "source": [
    "#Qual o filme menos avaliado?\n",
    "print(f'número total de votos: {df['No_of_Votes'].min()}')\n",
    "index = df['No_of_Votes'].idxmin()\n",
    "print(f'nome do filme: {df['Series_Title'][index]}')\n",
    "print(f'ano de lançamento: {df['Released_Year'][index]}')\n",
    "print(f'nota do filme: {df['IMDB_Rating'][index]}')\n",
    "print(f'Meta Score: {df['Meta_score'][index]}')\n",
    "print(f'Faturamento do filme: {df['Gross'][index]}')"
   ]
  },
  {
   "cell_type": "code",
   "execution_count": 406,
   "id": "f68341db",
   "metadata": {},
   "outputs": [
    {
     "name": "stdout",
     "output_type": "stream",
     "text": [
      "Faturamento máximo: 936662225.0\n",
      "nome do filme: Star Wars: Episode VII - The Force Awakens\n",
      "ano de lançamento: 2015\n",
      "nota do filme: 7.9\n",
      "Meta Score máximo: 100.0\n",
      "número total de votos: 860823\n"
     ]
    }
   ],
   "source": [
    "#filme com maior faturamento?\n",
    "print(f'Faturamento máximo: {df['Gross'].max()}')\n",
    "index = df['Gross'].idxmax()\n",
    "print(f'nome do filme: {df['Series_Title'][index]}')\n",
    "print(f'ano de lançamento: {df['Released_Year'][index]}')\n",
    "print(f'nota do filme: {df['IMDB_Rating'][index]}')\n",
    "print(f'Meta Score máximo: {df['Meta_score'].max()}')\n",
    "print(f'número total de votos: {df['No_of_Votes'][index]}')"
   ]
  },
  {
   "cell_type": "code",
   "execution_count": 407,
   "id": "5b1e733d",
   "metadata": {},
   "outputs": [
    {
     "name": "stdout",
     "output_type": "stream",
     "text": [
      "Faturamento mínimo: 1305.0\n",
      "nome do filme: Adams æbler\n",
      "ano de lançamento: 2005\n",
      "nota do filme: 7.8\n",
      "Meta Score mínimo: 28.0\n",
      "número total de votos: 45717\n"
     ]
    }
   ],
   "source": [
    "#filme com menor faturamento?\n",
    "print(f'Faturamento mínimo: {df['Gross'].min()}')\n",
    "index = df['Gross'].idxmin()\n",
    "print(f'nome do filme: {df['Series_Title'][index]}')\n",
    "print(f'ano de lançamento: {df['Released_Year'][index]}')\n",
    "print(f'nota do filme: {df['IMDB_Rating'][index]}')\n",
    "print(f'Meta Score mínimo: {df['Meta_score'].min()}')\n",
    "print(f'número total de votos: {df['No_of_Votes'][index]}')"
   ]
  },
  {
   "cell_type": "code",
   "execution_count": 408,
   "id": "5cc8d5ad",
   "metadata": {},
   "outputs": [
    {
     "name": "stdout",
     "output_type": "stream",
     "text": [
      "Maior nota: 9.2\n",
      "nome do filme: The Godfather\n",
      "ano de lançamento: 1972\n",
      "Meta Score máximo: 100.0\n",
      "Faturamento do filme: 134966411.0\n"
     ]
    }
   ],
   "source": [
    "#Filme com maior nota?\n",
    "print(f'Maior nota: {df['IMDB_Rating'].max()}')\n",
    "index = df['IMDB_Rating'].idxmax()\n",
    "print(f'nome do filme: {df['Series_Title'][index]}')\n",
    "print(f'ano de lançamento: {df['Released_Year'][index]}')\n",
    "print(f'Meta Score máximo: {df['Meta_score'][index]}')\n",
    "print(f'Faturamento do filme: {df['Gross'][index]}')"
   ]
  },
  {
   "cell_type": "code",
   "execution_count": 409,
   "id": "32515c95",
   "metadata": {},
   "outputs": [
    {
     "name": "stdout",
     "output_type": "stream",
     "text": [
      "Menor nota: 7.6\n",
      "nome do filme: Dark Waters\n",
      "ano de lançamento: 2019\n",
      "Meta Score mínimo: 73.0\n",
      "Faturamento do filme: nan\n"
     ]
    }
   ],
   "source": [
    "#filme com menor nota?\n",
    "print(f'Menor nota: {df['IMDB_Rating'].min()}')\n",
    "index = df['IMDB_Rating'].idxmin()\n",
    "print(f'nome do filme: {df['Series_Title'][index]}')\n",
    "print(f'ano de lançamento: {df['Released_Year'][index]}')\n",
    "print(f'Meta Score mínimo: {df['Meta_score'][index]}')\n",
    "print(f'Faturamento do filme: {df['Gross'][index]}')"
   ]
  },
  {
   "cell_type": "code",
   "execution_count": 410,
   "id": "3419bc3e",
   "metadata": {},
   "outputs": [
    {
     "data": {
      "text/plain": [
       "Text(0.5, 1.0, 'Correlação entre variáveis quantitativas contínuas')"
      ]
     },
     "execution_count": 410,
     "metadata": {},
     "output_type": "execute_result"
    },
    {
     "data": {
      "image/png": "[encoded data removed]",
      "text/plain": [
       "<Figure size 800x500 with 2 Axes>"
      ]
     },
     "metadata": {},
     "output_type": "display_data"
    }
   ],
   "source": [
    "df_heat = df[['Runtime', 'IMDB_Rating', 'Meta_score', 'No_of_Votes', 'Gross']]\n",
    "corr =df_heat.corr()\n",
    "plt.figure(figsize=(8,5))\n",
    "sns.heatmap(corr, vmax=.8, linewidth=.01, square=True, annot=True, cmap='coolwarm')\n",
    "plt.title('Correlação entre variáveis quantitativas contínuas')"
   ]
  },
  {
   "cell_type": "code",
   "execution_count": 411,
   "id": "0cce932a",
   "metadata": {},
   "outputs": [
    {
     "name": "stdout",
     "output_type": "stream",
     "text": [
      "      Series_Title  No_of_Votes  IMDB_Rating\n",
      "0  The Dark Knight      2303232          9.0\n",
      "1        Inception      2067042          8.8\n",
      "2       Fight Club      1854740          8.8\n",
      "3     Pulp Fiction      1826188          8.9\n",
      "4     Forrest Gump      1809221          8.8\n"
     ]
    }
   ],
   "source": [
    "conn = sqlite3.connect(':memory:')\n",
    "df.to_sql('movies', conn, index=False, if_exists='replace')\n",
    "result_df = pd.read_sql('SELECT Series_Title, No_of_Votes,IMDB_Rating FROM movies WHERE IMDB_Rating >= 8 ORDER BY No_of_Votes DESC LIMIT(5)', conn)\n",
    "print(result_df)"
   ]
  },
  {
   "cell_type": "code",
   "execution_count": 412,
   "id": "ad1f087e",
   "metadata": {},
   "outputs": [
    {
     "name": "stdout",
     "output_type": "stream",
     "text": [
      "             Series_Title  No_of_Votes  IMDB_Rating\n",
      "0         The Dark Knight      2303232          9.0\n",
      "1           The Godfather      1620367          9.2\n",
      "2  The Godfather: Part II      1129952          9.0\n",
      "3            12 Angry Men       689845          9.0\n"
     ]
    }
   ],
   "source": [
    "result_df = pd.read_sql('SELECT Series_Title, No_of_Votes,IMDB_Rating FROM movies WHERE IMDB_Rating >= 9 ORDER BY No_of_Votes DESC LIMIT(5)', conn)\n",
    "print(result_df)"
   ]
  },
  {
   "cell_type": "code",
   "execution_count": 425,
   "id": "efeb370c",
   "metadata": {},
   "outputs": [
    {
     "data": {
      "text/html": [
       "<div>\n",
       "<style scoped>\n",
       "    .dataframe tbody tr th:only-of-type {\n",
       "        vertical-align: middle;\n",
       "    }\n",
       "\n",
       "    .dataframe tbody tr th {\n",
       "        vertical-align: top;\n",
       "    }\n",
       "\n",
       "    .dataframe thead th {\n",
       "        text-align: right;\n",
       "    }\n",
       "</style>\n",
       "<table border=\"1\" class=\"dataframe\">\n",
       "  <thead>\n",
       "    <tr style=\"text-align: right;\">\n",
       "      <th></th>\n",
       "      <th>Series_Title</th>\n",
       "      <th>No_of_Votes</th>\n",
       "      <th>IMDB_Rating</th>\n",
       "    </tr>\n",
       "  </thead>\n",
       "  <tbody>\n",
       "    <tr>\n",
       "      <th>0</th>\n",
       "      <td>The Godfather</td>\n",
       "      <td>1620367</td>\n",
       "      <td>9.2</td>\n",
       "    </tr>\n",
       "    <tr>\n",
       "      <th>1</th>\n",
       "      <td>The Dark Knight</td>\n",
       "      <td>2303232</td>\n",
       "      <td>9.0</td>\n",
       "    </tr>\n",
       "    <tr>\n",
       "      <th>2</th>\n",
       "      <td>The Godfather: Part II</td>\n",
       "      <td>1129952</td>\n",
       "      <td>9.0</td>\n",
       "    </tr>\n",
       "    <tr>\n",
       "      <th>3</th>\n",
       "      <td>12 Angry Men</td>\n",
       "      <td>689845</td>\n",
       "      <td>9.0</td>\n",
       "    </tr>\n",
       "    <tr>\n",
       "      <th>4</th>\n",
       "      <td>The Lord of the Rings: The Return of the King</td>\n",
       "      <td>1642758</td>\n",
       "      <td>8.9</td>\n",
       "    </tr>\n",
       "    <tr>\n",
       "      <th>5</th>\n",
       "      <td>Pulp Fiction</td>\n",
       "      <td>1826188</td>\n",
       "      <td>8.9</td>\n",
       "    </tr>\n",
       "    <tr>\n",
       "      <th>6</th>\n",
       "      <td>Schindler's List</td>\n",
       "      <td>1213505</td>\n",
       "      <td>8.9</td>\n",
       "    </tr>\n",
       "    <tr>\n",
       "      <th>7</th>\n",
       "      <td>Inception</td>\n",
       "      <td>2067042</td>\n",
       "      <td>8.8</td>\n",
       "    </tr>\n",
       "    <tr>\n",
       "      <th>8</th>\n",
       "      <td>Fight Club</td>\n",
       "      <td>1854740</td>\n",
       "      <td>8.8</td>\n",
       "    </tr>\n",
       "    <tr>\n",
       "      <th>9</th>\n",
       "      <td>The Lord of the Rings: The Fellowship of the Ring</td>\n",
       "      <td>1661481</td>\n",
       "      <td>8.8</td>\n",
       "    </tr>\n",
       "  </tbody>\n",
       "</table>\n",
       "</div>"
      ],
      "text/plain": [
       "                                        Series_Title  No_of_Votes  IMDB_Rating\n",
       "0                                      The Godfather      1620367          9.2\n",
       "1                                    The Dark Knight      2303232          9.0\n",
       "2                             The Godfather: Part II      1129952          9.0\n",
       "3                                       12 Angry Men       689845          9.0\n",
       "4      The Lord of the Rings: The Return of the King      1642758          8.9\n",
       "5                                       Pulp Fiction      1826188          8.9\n",
       "6                                   Schindler's List      1213505          8.9\n",
       "7                                          Inception      2067042          8.8\n",
       "8                                         Fight Club      1854740          8.8\n",
       "9  The Lord of the Rings: The Fellowship of the Ring      1661481          8.8"
      ]
     },
     "execution_count": 425,
     "metadata": {},
     "output_type": "execute_result"
    }
   ],
   "source": [
    "result_df = pd.read_sql('SELECT Series_Title, No_of_Votes,IMDB_Rating FROM movies ORDER BY IMDB_Rating DESC LIMIT(10)', conn)\n",
    "result_df.head(10)"
   ]
  },
  {
   "cell_type": "code",
   "execution_count": 413,
   "id": "1d493ce8",
   "metadata": {},
   "outputs": [
    {
     "data": {
      "text/html": [
       "<div>\n",
       "<style scoped>\n",
       "    .dataframe tbody tr th:only-of-type {\n",
       "        vertical-align: middle;\n",
       "    }\n",
       "\n",
       "    .dataframe tbody tr th {\n",
       "        vertical-align: top;\n",
       "    }\n",
       "\n",
       "    .dataframe thead th {\n",
       "        text-align: right;\n",
       "    }\n",
       "</style>\n",
       "<table border=\"1\" class=\"dataframe\">\n",
       "  <thead>\n",
       "    <tr style=\"text-align: right;\">\n",
       "      <th></th>\n",
       "      <th>Series_Title</th>\n",
       "      <th>No_of_Votes</th>\n",
       "      <th>IMDB_Rating</th>\n",
       "    </tr>\n",
       "  </thead>\n",
       "  <tbody>\n",
       "    <tr>\n",
       "      <th>0</th>\n",
       "      <td>The Dark Knight</td>\n",
       "      <td>2303232</td>\n",
       "      <td>9.0</td>\n",
       "    </tr>\n",
       "    <tr>\n",
       "      <th>1</th>\n",
       "      <td>Inception</td>\n",
       "      <td>2067042</td>\n",
       "      <td>8.8</td>\n",
       "    </tr>\n",
       "    <tr>\n",
       "      <th>2</th>\n",
       "      <td>Fight Club</td>\n",
       "      <td>1854740</td>\n",
       "      <td>8.8</td>\n",
       "    </tr>\n",
       "    <tr>\n",
       "      <th>3</th>\n",
       "      <td>Pulp Fiction</td>\n",
       "      <td>1826188</td>\n",
       "      <td>8.9</td>\n",
       "    </tr>\n",
       "    <tr>\n",
       "      <th>4</th>\n",
       "      <td>Forrest Gump</td>\n",
       "      <td>1809221</td>\n",
       "      <td>8.8</td>\n",
       "    </tr>\n",
       "    <tr>\n",
       "      <th>5</th>\n",
       "      <td>The Matrix</td>\n",
       "      <td>1676426</td>\n",
       "      <td>8.7</td>\n",
       "    </tr>\n",
       "    <tr>\n",
       "      <th>6</th>\n",
       "      <td>The Lord of the Rings: The Fellowship of the Ring</td>\n",
       "      <td>1661481</td>\n",
       "      <td>8.8</td>\n",
       "    </tr>\n",
       "    <tr>\n",
       "      <th>7</th>\n",
       "      <td>The Lord of the Rings: The Return of the King</td>\n",
       "      <td>1642758</td>\n",
       "      <td>8.9</td>\n",
       "    </tr>\n",
       "    <tr>\n",
       "      <th>8</th>\n",
       "      <td>The Godfather</td>\n",
       "      <td>1620367</td>\n",
       "      <td>9.2</td>\n",
       "    </tr>\n",
       "    <tr>\n",
       "      <th>9</th>\n",
       "      <td>The Dark Knight Rises</td>\n",
       "      <td>1516346</td>\n",
       "      <td>8.4</td>\n",
       "    </tr>\n",
       "  </tbody>\n",
       "</table>\n",
       "</div>"
      ],
      "text/plain": [
       "                                        Series_Title  No_of_Votes  IMDB_Rating\n",
       "0                                    The Dark Knight      2303232          9.0\n",
       "1                                          Inception      2067042          8.8\n",
       "2                                         Fight Club      1854740          8.8\n",
       "3                                       Pulp Fiction      1826188          8.9\n",
       "4                                       Forrest Gump      1809221          8.8\n",
       "5                                         The Matrix      1676426          8.7\n",
       "6  The Lord of the Rings: The Fellowship of the Ring      1661481          8.8\n",
       "7      The Lord of the Rings: The Return of the King      1642758          8.9\n",
       "8                                      The Godfather      1620367          9.2\n",
       "9                              The Dark Knight Rises      1516346          8.4"
      ]
     },
     "execution_count": 413,
     "metadata": {},
     "output_type": "execute_result"
    }
   ],
   "source": [
    "result_df = pd.read_sql('SELECT Series_Title, No_of_Votes,IMDB_Rating FROM movies ORDER BY No_of_Votes DESC LIMIT(10)', conn)\n",
    "result_df.head(10)"
   ]
  },
  {
   "cell_type": "markdown",
   "id": "eda15f74",
   "metadata": {},
   "source": [
    "<p>Uma forma de remover a alta influência causado pelo número de avaliações (No_of_Votes), encontrada não só nas queries acimas mas também indicadas com uma correlação de 0.48, é utilizando a Média Bayesiana.</p>"
   ]
  },
  {
   "cell_type": "code",
   "execution_count": 414,
   "id": "9e160925",
   "metadata": {},
   "outputs": [
    {
     "name": "stdout",
     "output_type": "stream",
     "text": [
      "Média Global Verdadeira (m): 8.101988\n",
      "Total de Votos no Sistema: 271,349,801\n"
     ]
    }
   ],
   "source": [
    "total_sum_ratings = (df['IMDB_Rating'] * df['No_of_Votes']).sum()\n",
    "total_votes = df['No_of_Votes'].sum()\n",
    "global_true_mean = total_sum_ratings / total_votes\n",
    "\n",
    "print(f\"Média Global Verdadeira (m): {global_true_mean:.6f}\")\n",
    "print(f\"Total de Votos no Sistema: {total_votes:,}\")"
   ]
  },
  {
   "cell_type": "code",
   "execution_count": 415,
   "id": "001197a6",
   "metadata": {},
   "outputs": [
    {
     "name": "stdout",
     "output_type": "stream",
     "text": [
      "\n",
      "Constante de Confiança (C - 90º percentil de votos): 694913\n"
     ]
    }
   ],
   "source": [
    "C = df['No_of_Votes'].quantile(0.9)\n",
    "print(f\"\\nConstante de Confiança (C - 90º percentil de votos): {C:.0f}\")"
   ]
  },
  {
   "cell_type": "code",
   "execution_count": 416,
   "id": "533bc092",
   "metadata": {},
   "outputs": [],
   "source": [
    "df['Bayesian_Avg'] = ((C * global_true_mean) + (df['IMDB_Rating'] * df['No_of_Votes']) )/(C + df['No_of_Votes'])\n",
    "df['Bayesian_Avg'] = df['Bayesian_Avg'].round(5)"
   ]
  },
  {
   "cell_type": "code",
   "execution_count": 417,
   "id": "c7675e44",
   "metadata": {},
   "outputs": [
    {
     "name": "stdout",
     "output_type": "stream",
     "text": [
      "       Series_Title  No_of_Votes  IMDB_Rating  Bayesian_Avg  Difference\n",
      "   The Long Goodbye        26337          7.6       7.88308     0.28308\n",
      "           Lifeboat        26471          7.6       7.88245     0.28245\n",
      "  Omohide poro poro        27071          7.6       7.87968     0.27968\n",
      "     On Golden Pond        27650          7.6       7.87705     0.27705\n",
      "           Nelyubov        29765          7.6       7.86787     0.26787\n",
      "       Giù la testa        30144          7.6       7.86629     0.26629\n",
      "The Secret of Kells        31779          7.6       7.85968     0.25968\n",
      "   The Muppet Movie        32802          7.6       7.85570     0.25570\n",
      "     Watership Down        33656          7.6       7.85248     0.25248\n",
      "              Giant        34075          7.6       7.85093     0.25093\n",
      "\n",
      "\n",
      "             Series_Title  No_of_Votes  IMDB_Rating  Bayesian_Avg  Difference\n",
      "                  Seppuku        42004          8.6       8.37701    -0.22299\n",
      "          Soorarai Pottru        54995          8.6       8.40954    -0.19046\n",
      "                 Hamilton        55291          8.6       8.41017    -0.18983\n",
      "             Vikram Vedha        28401          8.4       8.23750    -0.16250\n",
      "                    Anand        30273          8.4       8.24223    -0.15777\n",
      "Ayla: The Daughter of War        34112          8.4       8.25112    -0.14888\n",
      "        Tengoku to jigoku        34357          8.4       8.25165    -0.14835\n",
      "                  Tumbbad        27793          8.3       8.19097    -0.10903\n",
      "               Capharnaüm        62635          8.4       8.29503    -0.10497\n",
      "                 Drishyam        30722          8.3       8.19590    -0.10410\n"
     ]
    }
   ],
   "source": [
    "rank_df = df[['Series_Title', 'IMDB_Rating', 'No_of_Votes', 'Bayesian_Avg']].copy()\n",
    "rank_df['Difference'] = results_df['Bayesian_Avg'] - results_df['IMDB_Rating']\n",
    "beneficiados = results_df.nlargest(10, 'Difference')[['Series_Title', 'No_of_Votes', 'IMDB_Rating', 'Bayesian_Avg', 'Difference']]\n",
    "punidos = results_df.nsmallest(10, 'Difference')[['Series_Title', 'No_of_Votes', 'IMDB_Rating', 'Bayesian_Avg', 'Difference']]\n",
    "print(beneficiados.to_string(index=False))\n",
    "print('\\n')\n",
    "print(punidos.to_string(index=False))"
   ]
  },
  {
   "cell_type": "code",
   "execution_count": 424,
   "id": "441e33a4",
   "metadata": {},
   "outputs": [
    {
     "data": {
      "text/html": [
       "<div>\n",
       "<style scoped>\n",
       "    .dataframe tbody tr th:only-of-type {\n",
       "        vertical-align: middle;\n",
       "    }\n",
       "\n",
       "    .dataframe tbody tr th {\n",
       "        vertical-align: top;\n",
       "    }\n",
       "\n",
       "    .dataframe thead th {\n",
       "        text-align: right;\n",
       "    }\n",
       "</style>\n",
       "<table border=\"1\" class=\"dataframe\">\n",
       "  <thead>\n",
       "    <tr style=\"text-align: right;\">\n",
       "      <th></th>\n",
       "      <th>Series_Title</th>\n",
       "      <th>Bayesian_Avg</th>\n",
       "    </tr>\n",
       "  </thead>\n",
       "  <tbody>\n",
       "    <tr>\n",
       "      <th>0</th>\n",
       "      <td>The Godfather</td>\n",
       "      <td>8.87044</td>\n",
       "    </tr>\n",
       "    <tr>\n",
       "      <th>1</th>\n",
       "      <td>The Dark Knight</td>\n",
       "      <td>8.79186</td>\n",
       "    </tr>\n",
       "    <tr>\n",
       "      <th>2</th>\n",
       "      <td>Pulp Fiction</td>\n",
       "      <td>8.68004</td>\n",
       "    </tr>\n",
       "    <tr>\n",
       "      <th>3</th>\n",
       "      <td>The Lord of the Rings: The Return of the King</td>\n",
       "      <td>8.66278</td>\n",
       "    </tr>\n",
       "    <tr>\n",
       "      <th>4</th>\n",
       "      <td>The Godfather: Part II</td>\n",
       "      <td>8.65803</td>\n",
       "    </tr>\n",
       "    <tr>\n",
       "      <th>5</th>\n",
       "      <td>Inception</td>\n",
       "      <td>8.62438</td>\n",
       "    </tr>\n",
       "    <tr>\n",
       "      <th>6</th>\n",
       "      <td>Fight Club</td>\n",
       "      <td>8.60976</td>\n",
       "    </tr>\n",
       "    <tr>\n",
       "      <th>7</th>\n",
       "      <td>Schindler's List</td>\n",
       "      <td>8.60942</td>\n",
       "    </tr>\n",
       "    <tr>\n",
       "      <th>8</th>\n",
       "      <td>Forrest Gump</td>\n",
       "      <td>8.60630</td>\n",
       "    </tr>\n",
       "    <tr>\n",
       "      <th>9</th>\n",
       "      <td>The Lord of the Rings: The Fellowship of the Ring</td>\n",
       "      <td>8.59415</td>\n",
       "    </tr>\n",
       "  </tbody>\n",
       "</table>\n",
       "</div>"
      ],
      "text/plain": [
       "                                        Series_Title  Bayesian_Avg\n",
       "0                                      The Godfather       8.87044\n",
       "1                                    The Dark Knight       8.79186\n",
       "2                                       Pulp Fiction       8.68004\n",
       "3      The Lord of the Rings: The Return of the King       8.66278\n",
       "4                             The Godfather: Part II       8.65803\n",
       "5                                          Inception       8.62438\n",
       "6                                         Fight Club       8.60976\n",
       "7                                   Schindler's List       8.60942\n",
       "8                                       Forrest Gump       8.60630\n",
       "9  The Lord of the Rings: The Fellowship of the Ring       8.59415"
      ]
     },
     "execution_count": 424,
     "metadata": {},
     "output_type": "execute_result"
    }
   ],
   "source": [
    "df.to_sql('movies', conn, index=False, if_exists='replace')\n",
    "result_df = pd.read_sql('SELECT Series_Title,Bayesian_Avg FROM movies WHERE Bayesian_Avg >= 8 ORDER BY Bayesian_Avg DESC LIMIT(10)', conn)\n",
    "result_df.head(10)"
   ]
  },
  {
   "cell_type": "markdown",
   "id": "3f0e4bf1",
   "metadata": {},
   "source": [
    "<p>Levando em consideração a Média Bayesiana podemos notar que a ordenação do ranking se mostra diferente das duas obtidas anteriormente, seja a que considerava ou a que desconsiderava o número de votos. Agora estamos trabalhando com um novo índice (Bayesian_Avg), que busca equilibrar o impacto da correlação das variáveis IMDB_Rating e No_of_Votes.</p>"
   ]
  }
 ],
 "metadata": {
  "kernelspec": {
   "display_name": "Python [conda env:base] *",
   "language": "python",
   "name": "conda-base-py"
  },
  "language_info": {
   "codemirror_mode": {
    "name": "ipython",
    "version": 3
   },
   "file_extension": ".py",
   "mimetype": "text/x-python",
   "name": "python",
   "nbconvert_exporter": "python",
   "pygments_lexer": "ipython3",
   "version": "3.12.4"
  }
 },
 "nbformat": 4,
 "nbformat_minor": 5
}
